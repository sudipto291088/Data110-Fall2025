{
  "nbformat": 4,
  "nbformat_minor": 0,
  "metadata": {
    "colab": {
      "provenance": [],
      "authorship_tag": "ABX9TyPNz56X3mCL72anxlaRTi8E",
      "include_colab_link": true
    },
    "kernelspec": {
      "name": "python3",
      "display_name": "Python 3"
    },
    "language_info": {
      "name": "python"
    }
  },
  "cells": [
    {
      "cell_type": "markdown",
      "metadata": {
        "id": "view-in-github",
        "colab_type": "text"
      },
      "source": [
        "<a href=\"https://colab.research.google.com/github/sudipto291088/Data110-Fall2025/blob/main/Sudipto_Week2_in_class_python.ipynb\" target=\"_parent\"><img src=\"https://colab.research.google.com/assets/colab-badge.svg\" alt=\"Open In Colab\"/></a>"
      ]
    },
    {
      "cell_type": "code",
      "execution_count": null,
      "metadata": {
        "id": "IImb1I_fD0aX"
      },
      "outputs": [],
      "source": []
    },
    {
      "cell_type": "markdown",
      "source": [
        "lets add some libraries\n"
      ],
      "metadata": {
        "id": "Z5ZmVWVbujJw"
      }
    },
    {
      "cell_type": "code",
      "source": [
        "## matplot is for data vizualization\n",
        "import matplotlib.pyplot as plt\n",
        "## to work with array, numerical calculation\n",
        "import numpy as np\n",
        "## for dataframe\n",
        "import pandas as pd\n"
      ],
      "metadata": {
        "id": "WX1_Tc2dunpr"
      },
      "execution_count": 2,
      "outputs": []
    },
    {
      "cell_type": "code",
      "source": [],
      "metadata": {
        "id": "cDiBSiqrvtFC"
      },
      "execution_count": null,
      "outputs": []
    },
    {
      "cell_type": "markdown",
      "source": [
        "Now, we need to add dataset\n"
      ],
      "metadata": {
        "id": "kVATNpj_vw50"
      }
    },
    {
      "cell_type": "code",
      "source": [
        "df = pd.read_csv('/content/happiness.csv')"
      ],
      "metadata": {
        "id": "08SSO-y1v0dE"
      },
      "execution_count": 5,
      "outputs": []
    }
  ]
}