{
  "nbformat": 4,
  "nbformat_minor": 0,
  "metadata": {
    "colab": {
      "provenance": [],
      "toc_visible": true,
      "authorship_tag": "ABX9TyMg6bFi3/hwmbRxVrX0jcvg",
      "include_colab_link": true
    },
    "kernelspec": {
      "name": "python3",
      "display_name": "Python 3"
    },
    "language_info": {
      "name": "python"
    }
  },
  "cells": [
    {
      "cell_type": "markdown",
      "metadata": {
        "id": "view-in-github",
        "colab_type": "text"
      },
      "source": [
        "<a href=\"https://colab.research.google.com/github/sudipto291088/Data110-Fall2025/blob/main/test_save_in_google_drive_and_google_drive.ipynb\" target=\"_parent\"><img src=\"https://colab.research.google.com/assets/colab-badge.svg\" alt=\"Open In Colab\"/></a>"
      ]
    },
    {
      "cell_type": "code",
      "execution_count": null,
      "metadata": {
        "id": "NZesf57XXrLq"
      },
      "outputs": [],
      "source": []
    },
    {
      "cell_type": "markdown",
      "source": [
        "This is my first Colab file\n",
        "\n",
        "\n",
        "this is math equation $x^2-3x+1=0$\n",
        "\n",
        "\n",
        "\n"
      ],
      "metadata": {
        "id": "D1bsCka3kfH6"
      }
    },
    {
      "cell_type": "code",
      "source": [
        "## This is just for comment\n",
        "print('hello world')"
      ],
      "metadata": {
        "id": "p_SghISNlakW"
      },
      "execution_count": null,
      "outputs": []
    },
    {
      "cell_type": "code",
      "source": [],
      "metadata": {
        "id": "ozHy9rIWme4k"
      },
      "execution_count": null,
      "outputs": []
    }
  ]
}